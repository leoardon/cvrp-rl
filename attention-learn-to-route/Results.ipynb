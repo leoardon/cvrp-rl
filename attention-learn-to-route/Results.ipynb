{
 "cells": [
  {
   "cell_type": "code",
   "execution_count": 1,
   "id": "382334b7",
   "metadata": {},
   "outputs": [],
   "source": [
    "from parse_data import parse_file\n",
    "import numpy as np\n",
    "import os"
   ]
  },
  {
   "cell_type": "code",
   "execution_count": 2,
   "id": "37e0588d",
   "metadata": {},
   "outputs": [],
   "source": [
    "def compute_demand(r, demand):\n",
    "    return sum(demand[n+1] for n in r)\n",
    "\n",
    "def compute_cost(r, coords):\n",
    "    if r[0] != 0:\n",
    "        r = [0] + r\n",
    "    if r[-1] != 0:\n",
    "        r = r + [0]\n",
    "    return np.sum([np.sqrt(np.sum((coords[n+1] - coords[p+1])**2)) for p, n in zip(r[:-1], r[1:])])\n",
    "\n",
    "def path(file):\n",
    "    return os.path.join(\"/home/ubuntu/dev\", file)"
   ]
  },
  {
   "cell_type": "markdown",
   "id": "91785425",
   "metadata": {},
   "source": [
    "## CMT1"
   ]
  },
  {
   "cell_type": "code",
   "execution_count": 3,
   "id": "eab1711b",
   "metadata": {},
   "outputs": [],
   "source": [
    "data = parse_file(path(\"cvrplib/Christofides, Mingozzi and Toth (1979)/CMT1.vrp\"))\n",
    "coords = {k: np.array(v) for k, v in data[\"node_coord_section\"].items()}\n",
    "demand = data[\"demand_section\"]"
   ]
  },
  {
   "cell_type": "markdown",
   "id": "45b0bfc3",
   "metadata": {},
   "source": [
    "#### Solution File"
   ]
  },
  {
   "cell_type": "code",
   "execution_count": 4,
   "id": "4f480645",
   "metadata": {},
   "outputs": [],
   "source": [
    "solution = \"\"\"46 5 49 10 39 33 45 15 44 37 12\n",
    "11 2 29 21 16 50 34 30 9 38\n",
    "8 26 31 28 3 36 35 20 22 1 32\n",
    "27 48 23 7 43 24 25 14 6\n",
    "18 13 41 40 19 42 17 4 47\"\"\"\n",
    "# Cost 524.611"
   ]
  },
  {
   "cell_type": "code",
   "execution_count": 5,
   "id": "ac33644d",
   "metadata": {},
   "outputs": [],
   "source": [
    "sub_tours = [[int(v) for v in st.split()]for st in solution.split(\"\\n\")]"
   ]
  },
  {
   "cell_type": "code",
   "execution_count": 6,
   "id": "26f903b4",
   "metadata": {},
   "outputs": [
    {
     "data": {
      "text/plain": [
       "5"
      ]
     },
     "execution_count": 6,
     "metadata": {},
     "output_type": "execute_result"
    }
   ],
   "source": [
    "len(sub_tours)"
   ]
  },
  {
   "cell_type": "code",
   "execution_count": 7,
   "id": "039202e0",
   "metadata": {},
   "outputs": [
    {
     "data": {
      "text/plain": [
       "524.6111466425073"
      ]
     },
     "execution_count": 7,
     "metadata": {},
     "output_type": "execute_result"
    }
   ],
   "source": [
    "for r in sub_tours:\n",
    "    d = compute_demand(r, demand)\n",
    "    if d > data[\"capacity\"]:\n",
    "        print(f\"!!!! Demand ({d}) exceeds capacity ({data['capacity']}) for subtour:\\n\\t{r}\")\n",
    "\n",
    "baseline = np.sum([compute_cost(r, coords) for r in sub_tours])\n",
    "baseline"
   ]
  },
  {
   "cell_type": "markdown",
   "id": "d1208e78",
   "metadata": {},
   "source": [
    "### LKH3 Solution"
   ]
  },
  {
   "cell_type": "code",
   "execution_count": 8,
   "id": "b1b08c7f",
   "metadata": {},
   "outputs": [
    {
     "name": "stdout",
     "output_type": "stream",
     "text": [
      "Number of sub-tours: 5\n",
      "Total clients visited: 50\n",
      "Total distance: 524.6111466425073\n",
      "Gap: 0.0%\n"
     ]
    }
   ],
   "source": [
    "tour = [0, 11, 2, 29, 21, 16, 50, 34, 30, 9, 38, 0, 46, 5, \n",
    "        49, 10, 39, 33, 45, 15, 44, 37, 12, 0, 8, 26, 31, \n",
    "        28, 3, 36, 35, 20, 22, 1, 32, 0, 47, 4, 17, 42, \n",
    "        19, 40, 41, 13, 18, 0, 6, 14, 25, 24, 43, 7, 23, 48, 27, 0]\n",
    "\n",
    "tour = str(tour)\n",
    "sub_tours = [[int(n.strip()) for n in st.replace(\"[0, \", \"\").replace(\", 0]\", \"\").split(\",\") if n] for st in tour.split(\" 0,\") if st]\n",
    "\n",
    "for r in sub_tours:\n",
    "    d = compute_demand(r, demand)\n",
    "    if d > data[\"capacity\"]:\n",
    "        print(f\"!!!! Demand ({d}) exceeds capacity ({data['capacity']}) for subtour:\\n\\t{r}\")\n",
    "        \n",
    "print(f\"Number of sub-tours: {len(sub_tours)}\")\n",
    "print(f\"Total clients visited: {np.sum([len(r) for r in sub_tours])}\")\n",
    "total_distance = np.sum([compute_cost(r, coords) for r in sub_tours])\n",
    "print(f\"Total distance: {total_distance}\")\n",
    "print(f\"Gap: {(total_distance - baseline) / baseline * 100}%\")"
   ]
  },
  {
   "cell_type": "markdown",
   "id": "8b8f7d28",
   "metadata": {},
   "source": [
    "#### Duration\n",
    "Average serial duration: 12.696086645126343"
   ]
  },
  {
   "cell_type": "markdown",
   "id": "b09ca93f",
   "metadata": {},
   "source": [
    "### OR-Tools"
   ]
  },
  {
   "cell_type": "code",
   "execution_count": 9,
   "id": "16bd68b7",
   "metadata": {},
   "outputs": [
    {
     "name": "stdout",
     "output_type": "stream",
     "text": [
      "Number of sub-tours: 5\n",
      "Total clients visited: 50\n",
      "Total distance: 556.4565079224349\n",
      "Gap: 6.070279193215162%\n"
     ]
    }
   ],
   "source": [
    "tour_str = \"\"\"\n",
    "0 27 1 28 3 36 35 20 29 21 50 16 38 0\n",
    "0 46 12 17 37 44 42 19 40 41 13 4 0\n",
    "0 47 18 25 14 24 43 48 0\n",
    "0 5 49 9 34 30 10 39 33 45 15 0\n",
    "0 6 23 7 26 8 31 22 2 11 32 0\"\"\"\n",
    "\n",
    "sub_tours = [[int(n) for n in r.split()[1:-1]] for r in tour_str.split(\"\\n\") if r]\n",
    "\n",
    "for r in sub_tours:\n",
    "    d = compute_demand(r, demand)\n",
    "    if d > data[\"capacity\"]:\n",
    "        print(f\"!!!! Demand ({d}) exceeds capacity ({data['capacity']}) for subtour:\\n\\t{r}\")\n",
    "        \n",
    "print(f\"Number of sub-tours: {len(sub_tours)}\")\n",
    "print(f\"Total clients visited: {np.sum([len(r) for r in sub_tours])}\")\n",
    "total_distance = np.sum([compute_cost(r, coords) for r in sub_tours])\n",
    "print(f\"Total distance: {total_distance}\")\n",
    "print(f\"Gap: {(total_distance - baseline) / baseline * 100}%\")"
   ]
  },
  {
   "cell_type": "markdown",
   "id": "07ec3c00",
   "metadata": {},
   "source": [
    "#### Duration\n",
    "Average serial duration: 60.0"
   ]
  },
  {
   "cell_type": "markdown",
   "id": "a5a45904",
   "metadata": {},
   "source": [
    "### RL current solution"
   ]
  },
  {
   "cell_type": "code",
   "execution_count": 10,
   "id": "cfc37d9a",
   "metadata": {},
   "outputs": [
    {
     "name": "stdout",
     "output_type": "stream",
     "text": [
      "Number of sub-tours: 5\n",
      "Total clients visited: 50\n",
      "Total distance: 531.8638624750281\n",
      "Gap: 1.3824936581957814%\n"
     ]
    }
   ],
   "source": [
    "tour = [ 0,  6, 14, 25, 24, 43,  7, 23, 48, 27,  0, 18, 13, 41, 40, 19, 42,  4,\n",
    "        47,  0, 12, 17, 37, 44, 15, 45, 33, 39, 10, 49,  5,  0, 38,  9, 30, 34,\n",
    "        50, 21, 29, 16,  2, 11,  0, 32, 20, 35, 36,  3, 28, 31, 26,  8, 22,  1,\n",
    "        46,  0]\n",
    "\n",
    "tour = str(tour)\n",
    "sub_tours = [[int(n.strip()) for n in st.replace(\"[0, \", \"\").replace(\", 0]\", \"\").split(\",\") if n] for st in tour.split(\" 0,\") if st]\n",
    "\n",
    "for r in sub_tours:\n",
    "    d = compute_demand(r, demand)\n",
    "    if d > data[\"capacity\"]:\n",
    "        print(f\"!!!! Demand ({d}) exceeds capacity ({data['capacity']}) for subtour:\\n\\t{r}\")\n",
    "        \n",
    "print(f\"Number of sub-tours: {len(sub_tours)}\")\n",
    "print(f\"Total clients visited: {np.sum([len(r) for r in sub_tours])}\")\n",
    "total_distance = np.sum([compute_cost(r, coords) for r in sub_tours])\n",
    "print(f\"Total distance: {total_distance}\")\n",
    "print(f\"Gap: {(total_distance - baseline) / baseline * 100}%\")"
   ]
  },
  {
   "cell_type": "markdown",
   "id": "6048fd6e",
   "metadata": {},
   "source": [
    "#### Duration\n",
    "Average serial duration: 1.5238912"
   ]
  },
  {
   "cell_type": "code",
   "execution_count": 11,
   "id": "578797c8",
   "metadata": {},
   "outputs": [
    {
     "name": "stdout",
     "output_type": "stream",
     "text": [
      "Number of sub-tours: 5\n",
      "Total clients visited: 50\n",
      "Total distance: 562.1077232366748\n",
      "Gap: 7.147499025543835%\n"
     ]
    }
   ],
   "source": [
    "tour = [ 0,  6, 25, 14, 24, 43,  7, 23, 27, 48,  0, 18, 13, 41, 40, 42, 19,  4,\n",
    "        47,  0, 12, 17, 37, 44, 15, 45, 33, 39, 10, 49,  5,  0, 38,  9, 30, 34,\n",
    "        50, 21, 29,  2, 16, 11,  0, 32, 35, 36, 20,  3, 28, 31, 26,  8, 22,  1,\n",
    "        46,  0]\n",
    "\n",
    "tour = str(tour)\n",
    "sub_tours = [[int(n.strip()) for n in st.replace(\"[0, \", \"\").replace(\", 0]\", \"\").split(\",\") if n] for st in tour.split(\" 0,\") if st]\n",
    "\n",
    "for r in sub_tours:\n",
    "    d = compute_demand(r, demand)\n",
    "    if d > data[\"capacity\"]:\n",
    "        print(f\"!!!! Demand ({d}) exceeds capacity ({data['capacity']}) for subtour:\\n\\t{r}\")\n",
    "        \n",
    "print(f\"Number of sub-tours: {len(sub_tours)}\")\n",
    "print(f\"Total clients visited: {np.sum([len(r) for r in sub_tours])}\")\n",
    "total_distance = np.sum([compute_cost(r, coords) for r in sub_tours])\n",
    "print(f\"Total distance: {total_distance}\")\n",
    "print(f\"Gap: {(total_distance - baseline) / baseline * 100}%\")"
   ]
  },
  {
   "cell_type": "markdown",
   "id": "dbd08704",
   "metadata": {},
   "source": [
    "#### Duration\n",
    "Average serial duration: 7.2"
   ]
  },
  {
   "cell_type": "markdown",
   "id": "4dc27e0e",
   "metadata": {},
   "source": [
    "## CMT2"
   ]
  },
  {
   "cell_type": "code",
   "execution_count": 12,
   "id": "721437a4",
   "metadata": {},
   "outputs": [],
   "source": [
    "data = parse_file(path(\"cvrplib/Christofides, Mingozzi and Toth (1979)/CMT2.vrp\"))\n",
    "coords = {k: np.array(v) for k, v in data[\"node_coord_section\"].items()}\n",
    "demand = data[\"demand_section\"]"
   ]
  },
  {
   "cell_type": "markdown",
   "id": "1c7fd6a4",
   "metadata": {},
   "source": [
    "#### Solution File"
   ]
  },
  {
   "cell_type": "code",
   "execution_count": 13,
   "id": "45d1c113",
   "metadata": {},
   "outputs": [],
   "source": [
    "solution = \"\"\"68 2 28 61 21 74 30\n",
    "53 66 65 38 10 58\n",
    "62 22 64 42 41 43 1 73 51\n",
    "48 47 36 69 71 60 70 20 37 27\n",
    "26 12 39 9 40 17\n",
    "3 44 32 50 18 55 25 31 72\n",
    "45 29 5 15 57 13 54 19 52\n",
    "7 11 59 14 35 8\n",
    "75 4 34 46 67\n",
    "6 33 63 23 56 24 49 16\"\"\"\n",
    "# Cost 835.262"
   ]
  },
  {
   "cell_type": "code",
   "execution_count": 14,
   "id": "c4f6c81d",
   "metadata": {},
   "outputs": [],
   "source": [
    "sub_tours = [[int(v) for v in st.split()]for st in solution.split(\"\\n\")]"
   ]
  },
  {
   "cell_type": "code",
   "execution_count": 15,
   "id": "097eec89",
   "metadata": {},
   "outputs": [
    {
     "data": {
      "text/plain": [
       "10"
      ]
     },
     "execution_count": 15,
     "metadata": {},
     "output_type": "execute_result"
    }
   ],
   "source": [
    "len(sub_tours)"
   ]
  },
  {
   "cell_type": "code",
   "execution_count": 16,
   "id": "8750cac3",
   "metadata": {},
   "outputs": [
    {
     "data": {
      "text/plain": [
       "835.2621066076043"
      ]
     },
     "execution_count": 16,
     "metadata": {},
     "output_type": "execute_result"
    }
   ],
   "source": [
    "for r in sub_tours:\n",
    "    d = compute_demand(r, demand)\n",
    "    if d > data[\"capacity\"]:\n",
    "        print(f\"!!!! Demand ({d}) exceeds capacity ({data['capacity']}) for subtour:\\n\\t{r}\")\n",
    "\n",
    "baseline = np.sum([compute_cost(r, coords) for r in sub_tours])\n",
    "baseline"
   ]
  },
  {
   "cell_type": "markdown",
   "id": "dbe03bd4",
   "metadata": {},
   "source": [
    "### LKH3 Solution"
   ]
  },
  {
   "cell_type": "code",
   "execution_count": 17,
   "id": "035e3e1d",
   "metadata": {},
   "outputs": [
    {
     "name": "stdout",
     "output_type": "stream",
     "text": [
      "Number of sub-tours: 10\n",
      "Total clients visited: 75\n",
      "Total distance: 836.1829637071355\n",
      "Gap: 0.11024768060785468%\n"
     ]
    }
   ],
   "source": [
    "tour = [0, 45, 29, 5, 15, 57, 13, 54, 19, 52, 0, 8, 35, 14, 59, 53, \n",
    "        7, 26, 0, 12, 72, 39, 9, 32, 44, 3, 17, 0, 6, 33, 63, 23, \n",
    "        56, 24, 49, 16, 0, 30, 74, 21, 61, 28, 2, 68, 0, 62, 22, \n",
    "        64, 42, 41, 43, 1, 73, 51, 0, 10, 31, 25, 55, 18, 50, 40, \n",
    "        0, 27, 37, 20, 70, 60, 71, 69, 36, 47, 48, 0, 11, 66, 65, \n",
    "        38, 58, 0, 75, 4, 34, 46, 67, 0]\n",
    "\n",
    "tour = str(tour)\n",
    "sub_tours = [[int(n.strip()) for n in st.replace(\"[0, \", \"\").replace(\", 0]\", \"\").split(\",\") if n] for st in tour.split(\" 0,\") if st]\n",
    "\n",
    "for r in sub_tours:\n",
    "    d = compute_demand(r, demand)\n",
    "    if d > data[\"capacity\"]:\n",
    "        print(f\"!!!! Demand ({d}) exceeds capacity ({data['capacity']}) for subtour:\\n\\t{r}\")\n",
    "        \n",
    "print(f\"Number of sub-tours: {len(sub_tours)}\")\n",
    "print(f\"Total clients visited: {np.sum([len(r) for r in sub_tours])}\")\n",
    "total_distance = np.sum([compute_cost(r, coords) for r in sub_tours])\n",
    "print(f\"Total distance: {total_distance}\")\n",
    "print(f\"Gap: {(total_distance - baseline) / baseline * 100}%\")"
   ]
  },
  {
   "cell_type": "markdown",
   "id": "1c22f734",
   "metadata": {},
   "source": [
    "#### Duration\n",
    "Average serial duration: 48.086801528930664"
   ]
  },
  {
   "cell_type": "markdown",
   "id": "272b3e06",
   "metadata": {},
   "source": [
    "### OR-Tools"
   ]
  },
  {
   "cell_type": "code",
   "execution_count": 18,
   "id": "b2c845cf",
   "metadata": {},
   "outputs": [
    {
     "name": "stdout",
     "output_type": "stream",
     "text": [
      "Number of sub-tours: 10\n",
      "Total clients visited: 75\n",
      "Total distance: 890.7836838490479\n",
      "Gap: 6.647204129365212%\n"
     ]
    }
   ],
   "source": [
    "tour_str = \"\"\"\n",
    "0 68 74 61 28 62 33 51 6 0\n",
    "0 73 1 43 23 56 41 42 64 22 0\n",
    "0 38 65 10 31 55 25 50 3 0\n",
    "0 11 66 59 14 35 0\n",
    "0 53 19 54 13 57 15 37 5 29 0\n",
    "0 26 12 58 72 39 9 40 0\n",
    "0 17 44 32 18 24 49 63 16 0\n",
    "0 7 8 52 27 45 30 2 0\n",
    "0 21 69 71 60 70 20 36 47 48 0\n",
    "0 75 4 34 46 67 0\"\"\"\n",
    "\n",
    "sub_tours = [[int(n) for n in r.split()[1:-1]] for r in tour_str.split(\"\\n\") if r]\n",
    "\n",
    "for r in sub_tours:\n",
    "    d = compute_demand(r, demand)\n",
    "    if d > data[\"capacity\"]:\n",
    "        print(f\"!!!! Demand ({d}) exceeds capacity ({data['capacity']}) for subtour:\\n\\t{r}\")\n",
    "        \n",
    "print(f\"Number of sub-tours: {len(sub_tours)}\")\n",
    "print(f\"Total clients visited: {np.sum([len(r) for r in sub_tours])}\")\n",
    "total_distance = np.sum([compute_cost(r, coords) for r in sub_tours])\n",
    "print(f\"Total distance: {total_distance}\")\n",
    "print(f\"Gap: {(total_distance - baseline) / baseline * 100}%\")"
   ]
  },
  {
   "cell_type": "markdown",
   "id": "375cda5e",
   "metadata": {},
   "source": [
    "#### Duration\n",
    "Average serial duration: 60.0"
   ]
  },
  {
   "cell_type": "markdown",
   "id": "e99c1f0f",
   "metadata": {},
   "source": [
    "### RL current solution"
   ]
  },
  {
   "cell_type": "code",
   "execution_count": 19,
   "id": "cc039a7d",
   "metadata": {},
   "outputs": [
    {
     "name": "stdout",
     "output_type": "stream",
     "text": [
      "Number of sub-tours: 11\n",
      "Total clients visited: 75\n",
      "Total distance: 867.158691902471\n",
      "Gap: 3.818751628086402%\n"
     ]
    }
   ],
   "source": [
    "tour = [ 0, 16, 49, 24, 18, 50, 44,  3, 51,  0, 63, 23, 56, 41, 42, 64, 43,  1,\n",
    "        73,  0, 33, 62, 22, 61, 28,  2, 68,  0, 17, 40, 32,  9, 12,  0,  6, 74,\n",
    "        21, 69, 36, 47, 48, 30,  0, 39, 25, 55, 31, 10, 72, 58, 26,  0,  5, 37,\n",
    "        71, 60, 70, 20, 15, 57, 29, 45,  0, 38, 65, 66, 11, 53, 35,  0, 27, 13,\n",
    "        54, 19, 59, 14,  7,  0,  4, 52,  8, 46, 34, 75,  0, 67,  0]\n",
    "\n",
    "tour = str(tour)\n",
    "sub_tours = [[int(n.strip()) for n in st.replace(\"[0, \", \"\").replace(\", 0]\", \"\").split(\",\") if n] for st in tour.split(\" 0,\") if st]\n",
    "\n",
    "for r in sub_tours:\n",
    "    d = compute_demand(r, demand)\n",
    "    if d > data[\"capacity\"]:\n",
    "        print(f\"!!!! Demand ({d}) exceeds capacity ({data['capacity']}) for subtour:\\n\\t{r}\")\n",
    "        \n",
    "print(f\"Number of sub-tours: {len(sub_tours)}\")\n",
    "print(f\"Total clients visited: {np.sum([len(r) for r in sub_tours])}\")\n",
    "total_distance = np.sum([compute_cost(r, coords) for r in sub_tours])\n",
    "print(f\"Total distance: {total_distance}\")\n",
    "print(f\"Gap: {(total_distance - baseline) / baseline * 100}%\")"
   ]
  },
  {
   "cell_type": "markdown",
   "id": "f372a990",
   "metadata": {},
   "source": [
    "#### Duration\n",
    "Average serial duration: 1.7034242153167725"
   ]
  },
  {
   "cell_type": "code",
   "execution_count": 20,
   "id": "b7d4a6e7",
   "metadata": {},
   "outputs": [
    {
     "name": "stdout",
     "output_type": "stream",
     "text": [
      "Number of sub-tours: 11\n",
      "Total clients visited: 75\n",
      "Total distance: 907.4528226333771\n",
      "Gap: 8.64288173193604%\n"
     ]
    }
   ],
   "source": [
    "tour = [ 0, 16, 49, 24, 18, 50, 44,  3, 51,  0, 63, 23, 56, 41, 42, 64, 43,  1,\n",
    "        73,  0, 33, 62, 22, 61, 28,  2, 68,  0, 17, 40, 32,  9, 12,  0,  6, 74,\n",
    "        21, 69, 47, 36, 48, 30,  0, 39, 55, 25, 31, 10, 72, 58, 26,  0,  5, 37,\n",
    "        71, 60, 70, 20, 15, 57, 29, 45,  0, 38, 65, 66, 11, 53, 35,  0, 13, 27,\n",
    "        54, 19, 59, 14,  7,  0,  8, 52,  4, 34, 46, 75,  0, 67,  0]\n",
    "\n",
    "tour = str(tour)\n",
    "sub_tours = [[int(n.strip()) for n in st.replace(\"[0, \", \"\").replace(\", 0]\", \"\").split(\",\") if n] for st in tour.split(\" 0,\") if st]\n",
    "\n",
    "for r in sub_tours:\n",
    "    d = compute_demand(r, demand)\n",
    "    if d > data[\"capacity\"]:\n",
    "        print(f\"!!!! Demand ({d}) exceeds capacity ({data['capacity']}) for subtour:\\n\\t{r}\")\n",
    "        \n",
    "print(f\"Number of sub-tours: {len(sub_tours)}\")\n",
    "print(f\"Total clients visited: {np.sum([len(r) for r in sub_tours])}\")\n",
    "total_distance = np.sum([compute_cost(r, coords) for r in sub_tours])\n",
    "print(f\"Total distance: {total_distance}\")\n",
    "print(f\"Gap: {(total_distance - baseline) / baseline * 100}%\")"
   ]
  },
  {
   "cell_type": "markdown",
   "id": "9320bfbc",
   "metadata": {},
   "source": [
    "#### Duration\n",
    "Average serial duration: 11.8"
   ]
  },
  {
   "cell_type": "markdown",
   "id": "16071fe5",
   "metadata": {},
   "source": [
    "## CMT3"
   ]
  },
  {
   "cell_type": "code",
   "execution_count": 21,
   "id": "5a647f4d",
   "metadata": {},
   "outputs": [],
   "source": [
    "data = parse_file(path(\"cvrplib/Christofides, Mingozzi and Toth (1979)/CMT3.vrp\"))\n",
    "coords = {k: np.array(v) for k, v in data[\"node_coord_section\"].items()}\n",
    "demand = data[\"demand_section\"]"
   ]
  },
  {
   "cell_type": "markdown",
   "id": "9bb1efdc",
   "metadata": {},
   "source": [
    "#### Solution File"
   ]
  },
  {
   "cell_type": "code",
   "execution_count": 22,
   "id": "38fe8896",
   "metadata": {},
   "outputs": [],
   "source": [
    "solution = \"\"\"92 37 98 100 91 16 86 38 44 14 42 43 15 57 2 58\n",
    "6 96 99 59 93 85 61 17 45 84 5 60 89\n",
    "27 69 1 70 30 20 66 32 90 63 10 62 88 31\n",
    "21 72 75 56 39 67 23 41 22 74 73 40\n",
    "18 83 8 46 47 36 49 64 11 19 48 82 7 52\n",
    "94 95 97 87 13\n",
    "28 12 80 68 29 24 54 55 25 4 26 53\n",
    "76 77 3 79 78 34 35 65 71 9 51 81 33 50\"\"\"\n",
    "# Cost 826.137"
   ]
  },
  {
   "cell_type": "code",
   "execution_count": 23,
   "id": "b3ce4e62",
   "metadata": {},
   "outputs": [],
   "source": [
    "sub_tours = [[int(v) for v in st.split()]for st in solution.split(\"\\n\")]"
   ]
  },
  {
   "cell_type": "code",
   "execution_count": 24,
   "id": "971f479a",
   "metadata": {},
   "outputs": [
    {
     "data": {
      "text/plain": [
       "8"
      ]
     },
     "execution_count": 24,
     "metadata": {},
     "output_type": "execute_result"
    }
   ],
   "source": [
    "len(sub_tours)"
   ]
  },
  {
   "cell_type": "code",
   "execution_count": 25,
   "id": "cee9bb47",
   "metadata": {},
   "outputs": [
    {
     "data": {
      "text/plain": [
       "826.136972955021"
      ]
     },
     "execution_count": 25,
     "metadata": {},
     "output_type": "execute_result"
    }
   ],
   "source": [
    "for r in sub_tours:\n",
    "    d = compute_demand(r, demand)\n",
    "    if d > data[\"capacity\"]:\n",
    "        print(f\"!!!! Demand ({d}) exceeds capacity ({data['capacity']}) for subtour:\\n\\t{r}\")\n",
    "\n",
    "baseline = np.sum([compute_cost(r, coords) for r in sub_tours])\n",
    "baseline"
   ]
  },
  {
   "cell_type": "markdown",
   "id": "2a8401d3",
   "metadata": {},
   "source": [
    "### LKH3 Solution"
   ]
  },
  {
   "cell_type": "code",
   "execution_count": 26,
   "id": "e55a690f",
   "metadata": {},
   "outputs": [
    {
     "name": "stdout",
     "output_type": "stream",
     "text": [
      "Number of sub-tours: 8\n",
      "Total clients visited: 100\n",
      "Total distance: 829.4473653779123\n",
      "Gap: 0.40070745303292493%\n"
     ]
    }
   ],
   "source": [
    "tour = [0, 12, 80, 68, 24, 29, 34, 78, 79, 3, 77, 76, 28, 0, \n",
    "        94, 95, 59, 98, 85, 93, 99, 96, 6, 0, 92, 37, 100, \n",
    "        91, 44, 14, 38, 86, 16, 61, 5, 60, 89, 0, 69, 1, \n",
    "        70, 30, 20, 66, 65, 71, 35, 9, 51, 81, 33, 50, 0, \n",
    "        58, 2, 75, 56, 23, 67, 39, 25, 55, 4, 54, 26, 0, \n",
    "        53, 40, 21, 73, 72, 74, 22, 41, 57, 15, 43, 42, 87, \n",
    "        97, 13, 0, 88, 62, 11, 19, 47, 48, 82, 7, 52, 0, 27, \n",
    "        31, 10, 32, 90, 63, 64, 49, 36, 46, 8, 45, 17, 84, 83, 18, 0]\n",
    "\n",
    "tour = str(tour)\n",
    "sub_tours = [[int(n.strip()) for n in st.replace(\"[0, \", \"\").replace(\", 0]\", \"\").split(\",\") if n] for st in tour.split(\" 0,\") if st]\n",
    "\n",
    "for r in sub_tours:\n",
    "    d = compute_demand(r, demand)\n",
    "    if d > data[\"capacity\"]:\n",
    "        print(f\"!!!! Demand ({d}) exceeds capacity ({data['capacity']}) for subtour:\\n\\t{r}\")\n",
    "        \n",
    "print(f\"Number of sub-tours: {len(sub_tours)}\")\n",
    "print(f\"Total clients visited: {np.sum([len(r) for r in sub_tours])}\")\n",
    "total_distance = np.sum([compute_cost(r, coords) for r in sub_tours])\n",
    "print(f\"Total distance: {total_distance}\")\n",
    "print(f\"Gap: {(total_distance - baseline) / baseline * 100}%\")"
   ]
  },
  {
   "cell_type": "markdown",
   "id": "1ed8e0ae",
   "metadata": {},
   "source": [
    "#### Duration\n",
    "Average serial duration: 14.121454954147339"
   ]
  },
  {
   "cell_type": "markdown",
   "id": "d63ea8b6",
   "metadata": {},
   "source": [
    "### OR-Tools"
   ]
  },
  {
   "cell_type": "code",
   "execution_count": 27,
   "id": "d2005bd7",
   "metadata": {},
   "outputs": [
    {
     "name": "stdout",
     "output_type": "stream",
     "text": [
      "Number of sub-tours: 8\n",
      "Total clients visited: 100\n",
      "Total distance: 875.090483205157\n",
      "Gap: 5.925592468647615%\n"
     ]
    }
   ],
   "source": [
    "tour_str = \"\"\"\n",
    "0 69 70 30 10 62 63 90 32 20 66 65 71 51 50 0\n",
    "0 53 40 21 73 72 74 75 22 41 15 43 14 100 37 92 95 0\n",
    "0 27 31 88 19 11 64 49 36 47 46 45 17 84 60 18 0\n",
    "0 6 98 85 61 16 86 38 44 91 42 57 2 58 0\n",
    "0 28 76 29 24 54 55 25 39 67 23 56 4 26 0\n",
    "0 52 7 48 82 8 83 5 93 99 59 96 89 0\n",
    "0 94 97 87 13 0\n",
    "0 1 33 81 9 35 34 78 79 3 77 68 80 12 0\"\"\"\n",
    "\n",
    "sub_tours = [[int(n) for n in r.split()[1:-1]] for r in tour_str.split(\"\\n\") if r]\n",
    "\n",
    "for r in sub_tours:\n",
    "    d = compute_demand(r, demand)\n",
    "    if d > data[\"capacity\"]:\n",
    "        print(f\"!!!! Demand ({d}) exceeds capacity ({data['capacity']}) for subtour:\\n\\t{r}\")\n",
    "        \n",
    "print(f\"Number of sub-tours: {len(sub_tours)}\")\n",
    "print(f\"Total clients visited: {np.sum([len(r) for r in sub_tours])}\")\n",
    "total_distance = np.sum([compute_cost(r, coords) for r in sub_tours])\n",
    "print(f\"Total distance: {total_distance}\")\n",
    "print(f\"Gap: {(total_distance - baseline) / baseline * 100}%\")"
   ]
  },
  {
   "cell_type": "markdown",
   "id": "5b04dd60",
   "metadata": {},
   "source": [
    "#### Duration\n",
    "Average serial duration: 60.0"
   ]
  },
  {
   "cell_type": "markdown",
   "id": "0e56ef2e",
   "metadata": {},
   "source": [
    "### RL current solution"
   ]
  },
  {
   "cell_type": "code",
   "execution_count": 28,
   "id": "cbab375e",
   "metadata": {},
   "outputs": [
    {
     "name": "stdout",
     "output_type": "stream",
     "text": [
      "Number of sub-tours: 8\n",
      "Total clients visited: 100\n",
      "Total distance: 882.5217380732901\n",
      "Gap: 6.825110963934426%\n"
     ]
    }
   ],
   "source": [
    "tour = [  0,  58,   2,  57,  15,  43,  42,  14,  38,  44,  86,  16, 100,  37,\n",
    "         97,   6,   0,  40,  21,  73,  74,  41,  22,  75,  56,  23,  67,  39,\n",
    "         72,   0,  53,  26,   4,  25,  55,  54,  24,  29,  80,  68,  12,  28,\n",
    "          0,  13,  87,  92,  98,  91,  85,  93,  59,  95,  94,   0,  77,   3,\n",
    "         79,  78,  34,  35,  65,  71,  66,   9,  81,  33,   1,   0,  96,  99,\n",
    "         61,  17,  84,   5,  60,  83,  45,  46,   8,  18,  89,   0,  76,  50,\n",
    "         51,  20,  30,  70,  10,  32,  90,  63,  64,  49,  36,  47,   7,   0,\n",
    "         27,  69,  31,  88,  62,  11,  19,  48,  82,  52,   0]\n",
    "\n",
    "tour = str(tour)\n",
    "sub_tours = [[int(n.strip()) for n in st.replace(\"[0, \", \"\").replace(\", 0]\", \"\").split(\",\") if n] for st in tour.split(\" 0,\") if st]\n",
    "\n",
    "for r in sub_tours:\n",
    "    d = compute_demand(r, demand)\n",
    "    if d > data[\"capacity\"]:\n",
    "        print(f\"!!!! Demand ({d}) exceeds capacity ({data['capacity']}) for subtour:\\n\\t{r}\")\n",
    "        \n",
    "print(f\"Number of sub-tours: {len(sub_tours)}\")\n",
    "print(f\"Total clients visited: {np.sum([len(r) for r in sub_tours])}\")\n",
    "total_distance = np.sum([compute_cost(r, coords) for r in sub_tours])\n",
    "print(f\"Total distance: {total_distance}\")\n",
    "print(f\"Gap: {(total_distance - baseline) / baseline * 100}%\")"
   ]
  },
  {
   "cell_type": "markdown",
   "id": "0cc02c32",
   "metadata": {},
   "source": [
    "#### Duration\n",
    "Average serial duration: 1.9495947360992432"
   ]
  },
  {
   "cell_type": "code",
   "execution_count": 29,
   "id": "1924c87f",
   "metadata": {},
   "outputs": [
    {
     "name": "stdout",
     "output_type": "stream",
     "text": [
      "Number of sub-tours: 8\n",
      "Total clients visited: 100\n",
      "Total distance: 915.3050540539109\n",
      "Gap: 10.793377371786592%\n"
     ]
    }
   ],
   "source": [
    "tour = [  0,  58,   2,  57,  15,  43,  42,  14,  38,  44,  86,  16, 100,  37,\n",
    "         97,   6,   0,  40,  21,  73,  74,  41,  22,  75,  56,  23,  67,  39,\n",
    "         72,   0,  26,  53,   4,  25,  55,  54,  24,  29,  68,  80,  12,  28,\n",
    "          0,  13,  87,  92,  98,  91,  85,  93,  59,  95,  94,   0,  77,   3,\n",
    "         79,  34,  78,  35,  65,  71,  66,   9,  81,  33,   1,   0,  96,  99,\n",
    "         61,  17,  84,   5,  60,  45,  83,  46,   8,  18,  89,   0,  76,  50,\n",
    "         51,  20,  30,  70,  10,  32,  90,  63,  64,  49,  36,  47,   7,   0,\n",
    "         27,  69,  31,  88,  62,  11,  19,  48,  82,  52,   0]\n",
    "\n",
    "tour = str(tour)\n",
    "sub_tours = [[int(n.strip()) for n in st.replace(\"[0, \", \"\").replace(\", 0]\", \"\").split(\",\") if n] for st in tour.split(\" 0,\") if st]\n",
    "\n",
    "for r in sub_tours:\n",
    "    d = compute_demand(r, demand)\n",
    "    if d > data[\"capacity\"]:\n",
    "        print(f\"!!!! Demand ({d}) exceeds capacity ({data['capacity']}) for subtour:\\n\\t{r}\")\n",
    "        \n",
    "print(f\"Number of sub-tours: {len(sub_tours)}\")\n",
    "print(f\"Total clients visited: {np.sum([len(r) for r in sub_tours])}\")\n",
    "total_distance = np.sum([compute_cost(r, coords) for r in sub_tours])\n",
    "print(f\"Total distance: {total_distance}\")\n",
    "print(f\"Gap: {(total_distance - baseline) / baseline * 100}%\")"
   ]
  },
  {
   "cell_type": "markdown",
   "id": "41404047",
   "metadata": {},
   "source": [
    "#### Duration\n",
    "Average serial duration: 17.5"
   ]
  },
  {
   "cell_type": "markdown",
   "id": "22b74f77",
   "metadata": {},
   "source": [
    "## CMT11"
   ]
  },
  {
   "cell_type": "code",
   "execution_count": 30,
   "id": "08b2aac5",
   "metadata": {},
   "outputs": [],
   "source": [
    "data = parse_file(path(\"cvrplib/Christofides, Mingozzi and Toth (1979)/CMT11.vrp\"))\n",
    "coords = {k: np.array(v) for k, v in data[\"node_coord_section\"].items()}\n",
    "demand = data[\"demand_section\"]"
   ]
  },
  {
   "cell_type": "markdown",
   "id": "5ba5d9cf",
   "metadata": {},
   "source": [
    "#### Solution File"
   ]
  },
  {
   "cell_type": "code",
   "execution_count": 31,
   "id": "1a998012",
   "metadata": {},
   "outputs": [],
   "source": [
    "solution = \"\"\"119 81 112 84 117 113 83 108 118 18 114 90 91 89 85 86 111 82\n",
    "88 2 1 3 4 5 6 7 9 10 11 15 14 13 12 8\n",
    "17 16 19 25 22 24 27 33 30 31 34 36 29 35 32 28 26 23 20 21 109\n",
    "40 43 45 48 51 50 49 46 47 44 41 42 39 38 37 95\n",
    "52 54 57 59 65 61 62 64 66 63 60 56 58 55 53 100\n",
    "106 73 76 68 77 79 80 78 75 72 74 71 70 69 67 107\n",
    "120 105 102 101 99 104 103 116 98 110 115 97 94 96 93 92 87\"\"\"\n",
    "# Cost 1042.12"
   ]
  },
  {
   "cell_type": "code",
   "execution_count": 32,
   "id": "072738bf",
   "metadata": {},
   "outputs": [],
   "source": [
    "sub_tours = [[int(v) for v in st.split()]for st in solution.split(\"\\n\")]"
   ]
  },
  {
   "cell_type": "code",
   "execution_count": 33,
   "id": "22b05a5a",
   "metadata": {},
   "outputs": [
    {
     "data": {
      "text/plain": [
       "7"
      ]
     },
     "execution_count": 33,
     "metadata": {},
     "output_type": "execute_result"
    }
   ],
   "source": [
    "len(sub_tours)"
   ]
  },
  {
   "cell_type": "code",
   "execution_count": 34,
   "id": "4ee464a9",
   "metadata": {},
   "outputs": [
    {
     "data": {
      "text/plain": [
       "1042.1150274399192"
      ]
     },
     "execution_count": 34,
     "metadata": {},
     "output_type": "execute_result"
    }
   ],
   "source": [
    "for r in sub_tours:\n",
    "    d = compute_demand(r, demand)\n",
    "    if d > data[\"capacity\"]:\n",
    "        print(f\"!!!! Demand ({d}) exceeds capacity ({data['capacity']}) for subtour:\\n\\t{r}\")\n",
    "\n",
    "baseline = np.sum([compute_cost(r, coords) for r in sub_tours])\n",
    "baseline"
   ]
  },
  {
   "cell_type": "markdown",
   "id": "b3e578b2",
   "metadata": {},
   "source": [
    "### LKH3 Solution"
   ]
  },
  {
   "cell_type": "code",
   "execution_count": 35,
   "id": "65fd3e9e",
   "metadata": {},
   "outputs": [
    {
     "name": "stdout",
     "output_type": "stream",
     "text": [
      "Number of sub-tours: 7\n",
      "Total clients visited: 120\n",
      "Total distance: 1042.1151057480174\n",
      "Gap: 7.5143430542645274e-06%\n"
     ]
    }
   ],
   "source": [
    "tour = [0, 82, 111, 86, 85, 89, 91, 90, 114, 18, 118, 108, 83, \n",
    "        113, 117, 84, 112, 81, 119, 0, 120, 105, 102, 101, \n",
    "        99, 104, 103, 116, 98, 110, 115, 97, 94, 96, 93, 92, \n",
    "        87, 0, 109, 21, 20, 23, 26, 28, 32, 35, 29, 36, 34, \n",
    "        31, 30, 33, 27, 24, 22, 25, 19, 16, 17, 0, 100, 52, \n",
    "        54, 57, 59, 65, 61, 62, 64, 66, 63, 60, 56, 58, 55, \n",
    "        53, 0, 107, 67, 69, 70, 71, 74, 75, 72, 78, 80, 79, \n",
    "        77, 68, 76, 73, 106, 0, 40, 43, 45, 48, 51, 50, 49, \n",
    "        46, 47, 44, 41, 42, 39, 38, 37, 95, 0, 8, 12, 13, 14, \n",
    "        15, 11, 10, 9, 7, 6, 5, 4, 3, 1, 2, 88, 0]\n",
    "\n",
    "tour = str(tour)\n",
    "sub_tours = [[int(n.strip()) for n in st.replace(\"[0, \", \"\").replace(\", 0]\", \"\").split(\",\") if n] for st in tour.split(\" 0,\") if st]\n",
    "\n",
    "for r in sub_tours:\n",
    "    d = compute_demand(r, demand)\n",
    "    if d > data[\"capacity\"]:\n",
    "        print(f\"!!!! Demand ({d}) exceeds capacity ({data['capacity']}) for subtour:\\n\\t{r}\")\n",
    "        \n",
    "print(f\"Number of sub-tours: {len(sub_tours)}\")\n",
    "print(f\"Total clients visited: {np.sum([len(r) for r in sub_tours])}\")\n",
    "total_distance = np.sum([compute_cost(r, coords) for r in sub_tours])\n",
    "print(f\"Total distance: {total_distance}\")\n",
    "print(f\"Gap: {(total_distance - baseline) / baseline * 100}%\")"
   ]
  },
  {
   "cell_type": "markdown",
   "id": "b8dccd0b",
   "metadata": {},
   "source": [
    "#### Duration\n",
    "Average serial duration: 38.99067497253418"
   ]
  },
  {
   "cell_type": "markdown",
   "id": "63abdf1e",
   "metadata": {},
   "source": [
    "### OR-Tools"
   ]
  },
  {
   "cell_type": "code",
   "execution_count": 36,
   "id": "fddfc2f1",
   "metadata": {},
   "outputs": [
    {
     "name": "stdout",
     "output_type": "stream",
     "text": [
      "Number of sub-tours: 7\n",
      "Total clients visited: 120\n",
      "Total distance: 1177.903795268736\n",
      "Gap: 13.030113207598424%\n"
     ]
    }
   ],
   "source": [
    "tour_str = \"\"\"\n",
    "0 50 59 65 61 62 64 66 63 60 58 56 55 53 54 57 52 79 0\n",
    "0 46 49 29 32 35 36 34 30 33 27 31 28 25 24 22 19 16 17 20 23 26 21 0\n",
    "0 39 42 38 37 41 44 47 51 48 45 43 40 80 78 74 0\n",
    "0 109 115 110 98 68 73 76 77 72 75 71 67 69 70 0\n",
    "0 118 8 12 13 14 15 11 10 9 7 6 5 4 3 1 2 0\n",
    "0 85 112 84 117 113 83 108 18 114 90 91 94 97 116 100 103 107 104 99 101 0\n",
    "0 120 119 81 82 88 111 86 87 89 92 93 96 95 102 105 106 0\"\"\"\n",
    "\n",
    "sub_tours = [[int(n) for n in r.split()[1:-1]] for r in tour_str.split(\"\\n\") if r]\n",
    "\n",
    "for r in sub_tours:\n",
    "    d = compute_demand(r, demand)\n",
    "    if d > data[\"capacity\"]:\n",
    "        print(f\"!!!! Demand ({d}) exceeds capacity ({data['capacity']}) for subtour:\\n\\t{r}\")\n",
    "        \n",
    "print(f\"Number of sub-tours: {len(sub_tours)}\")\n",
    "print(f\"Total clients visited: {np.sum([len(r) for r in sub_tours])}\")\n",
    "total_distance = np.sum([compute_cost(r, coords) for r in sub_tours])\n",
    "print(f\"Total distance: {total_distance}\")\n",
    "print(f\"Gap: {(total_distance - baseline) / baseline * 100}%\")"
   ]
  },
  {
   "cell_type": "markdown",
   "id": "3d3c40f0",
   "metadata": {},
   "source": [
    "#### Duration\n",
    "Average serial duration: 60.0"
   ]
  },
  {
   "cell_type": "markdown",
   "id": "b25da288",
   "metadata": {},
   "source": [
    "### RL current solution"
   ]
  },
  {
   "cell_type": "code",
   "execution_count": 37,
   "id": "ab039899",
   "metadata": {
    "scrolled": true
   },
   "outputs": [
    {
     "name": "stdout",
     "output_type": "stream",
     "text": [
      "Number of sub-tours: 8\n",
      "Total clients visited: 120\n",
      "Total distance: 1207.7441755500604\n",
      "Gap: 15.893557212875919%\n"
     ]
    }
   ],
   "source": [
    "tour = [  0,  54,  61,  57,  59,  65,  62,  64,  66,  63,  60,  58,  53,  55,\n",
    "         56,  52,  79,  76,   0,  68,  73,  77,  78,  80,  72,  74,  71,  75,\n",
    "         70,  69,  67, 103,   0, 120, 119,  81,  82,  88,  86,  87,  90,  89,\n",
    "         92,  95,   0, 117,  83, 113, 112,  84, 111,  85,  18, 114, 108,  97,\n",
    "          0,  10,   2,   1,   3,   5,   4,  11,  15,   9,   6,   7,  14,  13,\n",
    "         12,   8, 118,   0,  17,  16,  19,  25,  22,  24,  27,  20,  23,  21,\n",
    "         26,  28,  30,  33,  31,  32,  35,  34,  36,  29, 109,   0,  91,  39,\n",
    "         37,  41,  38,  44,  46,  49,  47,  42,  48,  50,  51,  45,  43,  40,\n",
    "        107,   0,  93,  96,  94, 115, 110, 100,  99,  98, 116, 104, 101, 102,\n",
    "        106, 105,   0]\n",
    "\n",
    "tour = str(tour)\n",
    "sub_tours = [[int(n.strip()) for n in st.replace(\"[0, \", \"\").replace(\", 0]\", \"\").split(\",\") if n] for st in tour.split(\" 0,\") if st]\n",
    "\n",
    "for r in sub_tours:\n",
    "    d = compute_demand(r, demand)\n",
    "    if d > data[\"capacity\"]:\n",
    "        print(f\"!!!! Demand ({d}) exceeds capacity ({data['capacity']}) for subtour:\\n\\t{r}\")\n",
    "        \n",
    "print(f\"Number of sub-tours: {len(sub_tours)}\")\n",
    "print(f\"Total clients visited: {np.sum([len(r) for r in sub_tours])}\")\n",
    "total_distance = np.sum([compute_cost(r, coords) for r in sub_tours])\n",
    "print(f\"Total distance: {total_distance}\")\n",
    "print(f\"Gap: {(total_distance - baseline) / baseline * 100}%\")"
   ]
  },
  {
   "cell_type": "markdown",
   "id": "4a1858e1",
   "metadata": {},
   "source": [
    "#### Duration\n",
    "Average serial duration: 2.9753198623657227"
   ]
  },
  {
   "cell_type": "code",
   "execution_count": 38,
   "id": "89323f52",
   "metadata": {},
   "outputs": [
    {
     "name": "stdout",
     "output_type": "stream",
     "text": [
      "Number of sub-tours: 8\n",
      "Total clients visited: 120\n",
      "Total distance: 1221.8212180049359\n",
      "Gap: 17.244371862335246%\n"
     ]
    }
   ],
   "source": [
    "tour = [  0,  54,  61,  57,  59,  65,  62,  64,  66,  63,  60,  58,  53,  55,\n",
    "         56,  52,  79,  76,   0,  68,  73,  77,  78,  80,  72,  74,  71,  75,\n",
    "         70,  69,  67, 103,   0, 120, 119,  81,  82,  88,  86,  87,  90,  89,\n",
    "         92,  95,   0, 117,  83, 113, 112,  84, 111,  85,  18, 114, 108,  97,\n",
    "          0,  10,   2,   1,   3,   5,   4,  11,   9,  15,   6,   7,  14,  13,\n",
    "         12,   8, 118,   0,  17,  16,  19,  24,  25,  22,  27,  20,  23,  21,\n",
    "         26,  28,  30,  33,  31,  32,  35,  34,  36,  29, 109,   0,  91,  39,\n",
    "         37,  41,  38,  44,  46,  49,  47,  42,  48,  50,  51,  45,  43,  40,\n",
    "        107,   0,  93,  94,  96, 110, 115,  99, 100,  98, 116, 102, 101, 104,\n",
    "        106, 105,   0]\n",
    "\n",
    "tour = str(tour)\n",
    "sub_tours = [[int(n.strip()) for n in st.replace(\"[0, \", \"\").replace(\", 0]\", \"\").split(\",\") if n] for st in tour.split(\" 0,\") if st]\n",
    "\n",
    "for r in sub_tours:\n",
    "    d = compute_demand(r, demand)\n",
    "    if d > data[\"capacity\"]:\n",
    "        print(f\"!!!! Demand ({d}) exceeds capacity ({data['capacity']}) for subtour:\\n\\t{r}\")\n",
    "        \n",
    "print(f\"Number of sub-tours: {len(sub_tours)}\")\n",
    "print(f\"Total clients visited: {np.sum([len(r) for r in sub_tours])}\")\n",
    "total_distance = np.sum([compute_cost(r, coords) for r in sub_tours])\n",
    "print(f\"Total distance: {total_distance}\")\n",
    "print(f\"Gap: {(total_distance - baseline) / baseline * 100}%\")"
   ]
  },
  {
   "cell_type": "markdown",
   "id": "3d721665",
   "metadata": {},
   "source": [
    "#### Duration\n",
    "Average serial duration: 21.8"
   ]
  },
  {
   "cell_type": "markdown",
   "id": "4e2a3b8d",
   "metadata": {},
   "source": [
    "---"
   ]
  },
  {
   "cell_type": "markdown",
   "id": "8c87d2d2",
   "metadata": {},
   "source": [
    "## CMT1 Overfit"
   ]
  },
  {
   "cell_type": "code",
   "execution_count": 39,
   "id": "ddb1bd0a",
   "metadata": {},
   "outputs": [],
   "source": [
    "data = parse_file(path(\"cvrplib/Christofides, Mingozzi and Toth (1979)/CMT1.vrp\"))\n",
    "coords = {k: np.array(v) for k, v in data[\"node_coord_section\"].items()}\n",
    "demand = data[\"demand_section\"]"
   ]
  },
  {
   "cell_type": "markdown",
   "id": "f869f20f",
   "metadata": {},
   "source": [
    "#### Solution File"
   ]
  },
  {
   "cell_type": "code",
   "execution_count": 40,
   "id": "ce5b8483",
   "metadata": {},
   "outputs": [],
   "source": [
    "solution = \"\"\"46 5 49 10 39 33 45 15 44 37 12\n",
    "11 2 29 21 16 50 34 30 9 38\n",
    "8 26 31 28 3 36 35 20 22 1 32\n",
    "27 48 23 7 43 24 25 14 6\n",
    "18 13 41 40 19 42 17 4 47\"\"\"\n",
    "# Cost 524.611"
   ]
  },
  {
   "cell_type": "code",
   "execution_count": 41,
   "id": "066a64d9",
   "metadata": {},
   "outputs": [],
   "source": [
    "sub_tours = [[int(v) for v in st.split()]for st in solution.split(\"\\n\")]"
   ]
  },
  {
   "cell_type": "code",
   "execution_count": 42,
   "id": "7469f1a9",
   "metadata": {},
   "outputs": [
    {
     "data": {
      "text/plain": [
       "5"
      ]
     },
     "execution_count": 42,
     "metadata": {},
     "output_type": "execute_result"
    }
   ],
   "source": [
    "len(sub_tours)"
   ]
  },
  {
   "cell_type": "code",
   "execution_count": 43,
   "id": "7b4ff4f7",
   "metadata": {},
   "outputs": [
    {
     "data": {
      "text/plain": [
       "524.6111466425073"
      ]
     },
     "execution_count": 43,
     "metadata": {},
     "output_type": "execute_result"
    }
   ],
   "source": [
    "for r in sub_tours:\n",
    "    d = compute_demand(r, demand)\n",
    "    if d > data[\"capacity\"]:\n",
    "        print(f\"!!!! Demand ({d}) exceeds capacity ({data['capacity']}) for subtour:\\n\\t{r}\")\n",
    "\n",
    "baseline = np.sum([compute_cost(r, coords) for r in sub_tours])\n",
    "baseline"
   ]
  },
  {
   "cell_type": "markdown",
   "id": "d26bbe3c",
   "metadata": {},
   "source": [
    "### RL current solution"
   ]
  },
  {
   "cell_type": "code",
   "execution_count": 44,
   "id": "476237cb",
   "metadata": {},
   "outputs": [
    {
     "name": "stdout",
     "output_type": "stream",
     "text": [
      "Number of sub-tours: 5\n",
      "Total clients visited: 50\n",
      "Total distance: 538.4425856141712\n",
      "Gap: 2.636512597985129%\n"
     ]
    }
   ],
   "source": [
    "tour = [ 0, 17, 42, 19, 40, 41, 13, 18,  4, 47,  0,  6, 14, 25, 24, 43,  7, 23,\n",
    "        48, 27,  0, 12, 37, 44, 15, 45, 33, 39, 10, 49,  5, 46,  0,  1,  8, 26,\n",
    "        31, 28, 22,  3, 36, 35, 20, 29, 21,  0, 32,  2, 16, 50, 34, 30,  9, 38,\n",
    "        11,  0]\n",
    "\n",
    "tour = str(tour)\n",
    "sub_tours = [[int(n.strip()) for n in st.replace(\"[0, \", \"\").replace(\", 0]\", \"\").split(\",\") if n] for st in tour.split(\" 0,\") if st]\n",
    "\n",
    "for r in sub_tours:\n",
    "    d = compute_demand(r, demand)\n",
    "    if d > data[\"capacity\"]:\n",
    "        print(f\"!!!! Demand ({d}) exceeds capacity ({data['capacity']}) for subtour:\\n\\t{r}\")\n",
    "        \n",
    "print(f\"Number of sub-tours: {len(sub_tours)}\")\n",
    "print(f\"Total clients visited: {np.sum([len(r) for r in sub_tours])}\")\n",
    "total_distance = np.sum([compute_cost(r, coords) for r in sub_tours])\n",
    "print(f\"Total distance: {total_distance}\")\n",
    "print(f\"Gap: {(total_distance - baseline) / baseline * 100}%\")"
   ]
  },
  {
   "cell_type": "markdown",
   "id": "a165fdde",
   "metadata": {},
   "source": [
    "#### Duration\n",
    "Average serial duration: 1.6"
   ]
  },
  {
   "cell_type": "markdown",
   "id": "3d77f0f6",
   "metadata": {},
   "source": [
    "## CMT1 Reuse"
   ]
  },
  {
   "cell_type": "code",
   "execution_count": 45,
   "id": "bc609a49",
   "metadata": {},
   "outputs": [],
   "source": [
    "data = parse_file(path(\"cvrplib/Christofides, Mingozzi and Toth (1979)/CMT1.vrp\"))\n",
    "coords = {k: np.array(v) for k, v in data[\"node_coord_section\"].items()}\n",
    "demand = data[\"demand_section\"]"
   ]
  },
  {
   "cell_type": "markdown",
   "id": "e9b51a31",
   "metadata": {},
   "source": [
    "#### Solution File"
   ]
  },
  {
   "cell_type": "code",
   "execution_count": 46,
   "id": "6bbe187b",
   "metadata": {},
   "outputs": [],
   "source": [
    "solution = \"\"\"46 5 49 10 39 33 45 15 44 37 12\n",
    "11 2 29 21 16 50 34 30 9 38\n",
    "8 26 31 28 3 36 35 20 22 1 32\n",
    "27 48 23 7 43 24 25 14 6\n",
    "18 13 41 40 19 42 17 4 47\"\"\"\n",
    "# Cost 524.611"
   ]
  },
  {
   "cell_type": "code",
   "execution_count": 47,
   "id": "fbbe3df3",
   "metadata": {},
   "outputs": [],
   "source": [
    "sub_tours = [[int(v) for v in st.split()]for st in solution.split(\"\\n\")]"
   ]
  },
  {
   "cell_type": "code",
   "execution_count": 48,
   "id": "f1ca96de",
   "metadata": {},
   "outputs": [
    {
     "data": {
      "text/plain": [
       "5"
      ]
     },
     "execution_count": 48,
     "metadata": {},
     "output_type": "execute_result"
    }
   ],
   "source": [
    "len(sub_tours)"
   ]
  },
  {
   "cell_type": "code",
   "execution_count": 49,
   "id": "64bdda02",
   "metadata": {},
   "outputs": [
    {
     "data": {
      "text/plain": [
       "524.6111466425073"
      ]
     },
     "execution_count": 49,
     "metadata": {},
     "output_type": "execute_result"
    }
   ],
   "source": [
    "for r in sub_tours:\n",
    "    d = compute_demand(r, demand)\n",
    "    if d > data[\"capacity\"]:\n",
    "        print(f\"!!!! Demand ({d}) exceeds capacity ({data['capacity']}) for subtour:\\n\\t{r}\")\n",
    "\n",
    "baseline = np.sum([compute_cost(r, coords) for r in sub_tours])\n",
    "baseline"
   ]
  },
  {
   "cell_type": "markdown",
   "id": "8e20b231",
   "metadata": {},
   "source": [
    "### RL current solution"
   ]
  },
  {
   "cell_type": "code",
   "execution_count": 50,
   "id": "4862880e",
   "metadata": {},
   "outputs": [
    {
     "name": "stdout",
     "output_type": "stream",
     "text": [
      "Number of sub-tours: 5\n",
      "Total clients visited: 50\n",
      "Total distance: 531.8638624750281\n",
      "Gap: 1.3824936581957814%\n"
     ]
    }
   ],
   "source": [
    "tour = [ 0,  6, 14, 25, 24, 43,  7, 23, 48, 27,  0, 18, 13, 41, 40, 19, 42,  4,\n",
    "        47,  0, 12, 17, 37, 44, 15, 45, 33, 39, 10, 49,  5,  0, 38,  9, 30, 34,\n",
    "        50, 21, 29, 16,  2, 11,  0, 32, 20, 35, 36,  3, 28, 31, 26,  8, 22,  1,\n",
    "        46,  0]\n",
    "\n",
    "tour = str(tour)\n",
    "sub_tours = [[int(n.strip()) for n in st.replace(\"[0, \", \"\").replace(\", 0]\", \"\").split(\",\") if n] for st in tour.split(\" 0,\") if st]\n",
    "\n",
    "for r in sub_tours:\n",
    "    d = compute_demand(r, demand)\n",
    "    if d > data[\"capacity\"]:\n",
    "        print(f\"!!!! Demand ({d}) exceeds capacity ({data['capacity']}) for subtour:\\n\\t{r}\")\n",
    "        \n",
    "print(f\"Number of sub-tours: {len(sub_tours)}\")\n",
    "print(f\"Total clients visited: {np.sum([len(r) for r in sub_tours])}\")\n",
    "total_distance = np.sum([compute_cost(r, coords) for r in sub_tours])\n",
    "print(f\"Total distance: {total_distance}\")\n",
    "print(f\"Gap: {(total_distance - baseline) / baseline * 100}%\")"
   ]
  },
  {
   "cell_type": "markdown",
   "id": "2f637912",
   "metadata": {},
   "source": [
    "#### Duration\n",
    "Average serial duration: 1.4"
   ]
  },
  {
   "cell_type": "markdown",
   "id": "36c76b7a",
   "metadata": {},
   "source": [
    "---"
   ]
  }
 ],
 "metadata": {
  "kernelspec": {
   "display_name": "Environment (conda_attention)",
   "language": "python",
   "name": "conda_attention"
  },
  "language_info": {
   "codemirror_mode": {
    "name": "ipython",
    "version": 3
   },
   "file_extension": ".py",
   "mimetype": "text/x-python",
   "name": "python",
   "nbconvert_exporter": "python",
   "pygments_lexer": "ipython3",
   "version": "3.7.10"
  }
 },
 "nbformat": 4,
 "nbformat_minor": 5
}
